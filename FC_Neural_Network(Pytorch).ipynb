{
  "nbformat": 4,
  "nbformat_minor": 0,
  "metadata": {
    "colab": {
      "name": "FC Neural Network(Pytorch).ipynb",
      "provenance": []
    },
    "kernelspec": {
      "name": "python3",
      "display_name": "Python 3"
    },
    "language_info": {
      "name": "python"
    },
    "accelerator": "GPU"
  },
  "cells": [
    {
      "cell_type": "code",
      "execution_count": 3,
      "metadata": {
        "id": "JA5FwXiJoFD4"
      },
      "outputs": [],
      "source": [
        "import torch\n",
        "import torch.nn as nn\n",
        "import torch.optim as optim\n",
        "import torch.nn.functional as F\n",
        "from torch.utils.data import DataLoader\n",
        "import torchvision.datasets as datasets\n",
        "import torchvision.transforms as transforms"
      ]
    },
    {
      "cell_type": "code",
      "source": [
        "class NN(nn.Module):\n",
        "  def __init__(self, input_size, num_classes):\n",
        "    super(NN, self).__init__()\n",
        "\n",
        "    self.fc1 = nn.Linear(input_size, 50)\n",
        "    self.fc2 = nn.Linear(50, num_classes)\n",
        "\n",
        "  def forward(self, x):\n",
        "    x = F.relu(self.fc1(x))\n",
        "    x = F.relu(self.fc2(x))\n",
        "    return x"
      ],
      "metadata": {
        "id": "X5jo9thWoiRh"
      },
      "execution_count": 4,
      "outputs": []
    },
    {
      "cell_type": "code",
      "source": [
        "device = torch.device('cuda' if torch.cuda.is_available() else 'cpu')\n",
        "print(device)"
      ],
      "metadata": {
        "colab": {
          "base_uri": "https://localhost:8080/"
        },
        "id": "R9JnBpdLpXjM",
        "outputId": "589e14c2-5018-44a0-eff6-7107fdbab9d4"
      },
      "execution_count": 13,
      "outputs": [
        {
          "output_type": "stream",
          "name": "stdout",
          "text": [
            "cuda\n"
          ]
        }
      ]
    },
    {
      "cell_type": "code",
      "source": [
        "# Hyperparameters\n",
        "\n",
        "input_size = 784\n",
        "num_classes = 10\n",
        "learning_rate = 0.001\n",
        "batch_size = 64\n",
        "num_epochs = 50"
      ],
      "metadata": {
        "id": "whKukQ0Qp1PO"
      },
      "execution_count": 25,
      "outputs": []
    },
    {
      "cell_type": "code",
      "source": [
        "train_data = datasets.MNIST(root=\"dataset/\", train=True, download=True, transform=transforms.ToTensor())\n",
        "train_loader = DataLoader(dataset=train_data, \n",
        "                          batch_size=batch_size, \n",
        "                          shuffle=True)\n",
        "\n",
        "test_data = datasets.MNIST(root=\"dataset/\", train=False, download=True, transform=transforms.ToTensor())\n",
        "test_loader = DataLoader(dataset=test_data, \n",
        "                          batch_size=batch_size, \n",
        "                          shuffle=True)\n",
        "\n"
      ],
      "metadata": {
        "id": "yOGuinKyqKA9"
      },
      "execution_count": 18,
      "outputs": []
    },
    {
      "cell_type": "code",
      "source": [
        "model = NN(input_size=input_size, num_classes=num_classes)"
      ],
      "metadata": {
        "id": "yHsuA9mJql7w"
      },
      "execution_count": 19,
      "outputs": []
    },
    {
      "cell_type": "code",
      "source": [
        "model.to(device)"
      ],
      "metadata": {
        "colab": {
          "base_uri": "https://localhost:8080/"
        },
        "id": "MbW3cQA4qr9t",
        "outputId": "decefc08-3218-4f52-92dd-f745a341af4e"
      },
      "execution_count": 20,
      "outputs": [
        {
          "output_type": "execute_result",
          "data": {
            "text/plain": [
              "NN(\n",
              "  (fc1): Linear(in_features=784, out_features=50, bias=True)\n",
              "  (fc2): Linear(in_features=50, out_features=10, bias=True)\n",
              ")"
            ]
          },
          "metadata": {},
          "execution_count": 20
        }
      ]
    },
    {
      "cell_type": "code",
      "source": [
        "criterion = nn.CrossEntropyLoss()"
      ],
      "metadata": {
        "id": "1fSVvZYbqt3t"
      },
      "execution_count": 22,
      "outputs": []
    },
    {
      "cell_type": "code",
      "source": [
        "optimizer = optim.Adam(model.parameters(), lr=learning_rate)"
      ],
      "metadata": {
        "id": "dOBhfIXnqyws"
      },
      "execution_count": 23,
      "outputs": []
    },
    {
      "cell_type": "code",
      "source": [
        "for epoch in range(num_epochs):\n",
        "  for batch_idx, (data, targets) in enumerate(train_loader):\n",
        "    data = data.to(device=device)\n",
        "    targets = targets.to(device=device)\n",
        "\n",
        "    data = data.reshape(data.shape[0], -1) # 28x28x1 => 784\n",
        "\n",
        "    # Forward Pass\n",
        "    scores = model(data)\n",
        "    loss = criterion(scores, targets)\n",
        "    \n",
        "    # Backward Pass\n",
        "    optimizer.zero_grad()\n",
        "    loss.backward()\n",
        "\n",
        "    # Gradient Descent\n",
        "    optimizer.step()\n",
        "\n",
        "  print(f\"[*] Epoch {epoch}: loss = {loss}\")"
      ],
      "metadata": {
        "colab": {
          "base_uri": "https://localhost:8080/"
        },
        "id": "Kb-Jdlwsq51v",
        "outputId": "0d69b759-58a2-4b86-de8f-d0e23ef66fac"
      },
      "execution_count": 27,
      "outputs": [
        {
          "output_type": "stream",
          "name": "stdout",
          "text": [
            "[*] Epoch 0: loss = 0.5493718385696411\n",
            "[*] Epoch 1: loss = 0.5389233231544495\n",
            "[*] Epoch 2: loss = 0.1990954577922821\n",
            "[*] Epoch 3: loss = 0.15325486660003662\n",
            "[*] Epoch 4: loss = 0.30082038044929504\n",
            "[*] Epoch 5: loss = 0.3804765045642853\n",
            "[*] Epoch 6: loss = 0.3342514932155609\n",
            "[*] Epoch 7: loss = 0.44302257895469666\n",
            "[*] Epoch 8: loss = 0.1958870142698288\n",
            "[*] Epoch 9: loss = 0.2080163061618805\n",
            "[*] Epoch 10: loss = 0.2973130941390991\n",
            "[*] Epoch 11: loss = 0.21885040402412415\n",
            "[*] Epoch 12: loss = 0.15559057891368866\n",
            "[*] Epoch 13: loss = 0.4417840242385864\n",
            "[*] Epoch 14: loss = 0.37429484724998474\n",
            "[*] Epoch 15: loss = 0.18886396288871765\n",
            "[*] Epoch 16: loss = 0.2993009090423584\n",
            "[*] Epoch 17: loss = 0.2255537360906601\n",
            "[*] Epoch 18: loss = 0.3728806674480438\n",
            "[*] Epoch 19: loss = 0.379336953163147\n",
            "[*] Epoch 20: loss = 0.26734426617622375\n",
            "[*] Epoch 21: loss = 0.364096462726593\n",
            "[*] Epoch 22: loss = 0.29750820994377136\n",
            "[*] Epoch 23: loss = 0.07283991575241089\n",
            "[*] Epoch 24: loss = 0.1525401920080185\n",
            "[*] Epoch 25: loss = 0.16283981502056122\n",
            "[*] Epoch 26: loss = 0.5283849239349365\n",
            "[*] Epoch 27: loss = 0.43836456537246704\n",
            "[*] Epoch 28: loss = 0.0773758590221405\n",
            "[*] Epoch 29: loss = 0.011525747366249561\n",
            "[*] Epoch 30: loss = 0.07785146683454514\n",
            "[*] Epoch 31: loss = 0.5769881010055542\n",
            "[*] Epoch 32: loss = 0.2882489860057831\n",
            "[*] Epoch 33: loss = 0.4328267574310303\n",
            "[*] Epoch 34: loss = 0.2917625308036804\n",
            "[*] Epoch 35: loss = 0.2351108193397522\n",
            "[*] Epoch 36: loss = 0.28960704803466797\n",
            "[*] Epoch 37: loss = 0.3600919246673584\n",
            "[*] Epoch 38: loss = 0.21782994270324707\n",
            "[*] Epoch 39: loss = 0.13556352257728577\n",
            "[*] Epoch 40: loss = 0.1459418684244156\n",
            "[*] Epoch 41: loss = 0.2365415394306183\n",
            "[*] Epoch 42: loss = 0.2161024957895279\n",
            "[*] Epoch 43: loss = 0.2881194055080414\n",
            "[*] Epoch 44: loss = 0.5091586709022522\n",
            "[*] Epoch 45: loss = 0.07197985798120499\n",
            "[*] Epoch 46: loss = 0.5162025094032288\n",
            "[*] Epoch 47: loss = 0.33457285165786743\n",
            "[*] Epoch 48: loss = 0.006236672401428223\n",
            "[*] Epoch 49: loss = 0.1449199616909027\n"
          ]
        }
      ]
    },
    {
      "cell_type": "code",
      "source": [
        "def check_accuracy(loader, model):\n",
        "  if loader.dataset.train:\n",
        "    print(\"Checking Accuracy on training data\")\n",
        "  else:\n",
        "    print(\"Checking Accuracy on testing data\")\n",
        "  num_correct = 0\n",
        "  num_samples = 0\n",
        "  model.eval()\n",
        "\n",
        "  with torch.no_grad():\n",
        "    for x, y in loader:\n",
        "      x = x.to(device=device)\n",
        "      y = y.to(device=device)\n",
        "      x = x.reshape(x.shape[0], -1)\n",
        "\n",
        "      scores = model(x)\n",
        "      _, predictions = scores.max(1)\n",
        "      num_correct += (predictions == y).sum()\n",
        "      num_samples += predictions.size(0)\n",
        "\n",
        "    acc = float(num_correct)/float(num_samples)*100\n",
        "    print(f\"Got {num_correct} / {num_samples} with accuracy {acc:.2f}\")\n",
        "  model.train()\n",
        "  return acc"
      ],
      "metadata": {
        "id": "9MJC_gv5sKWw"
      },
      "execution_count": 26,
      "outputs": []
    },
    {
      "cell_type": "code",
      "source": [
        "check_accuracy(train_loader, model)"
      ],
      "metadata": {
        "colab": {
          "base_uri": "https://localhost:8080/"
        },
        "id": "xcPzGrsUtoil",
        "outputId": "9fa5e727-c9fd-48a1-c307-bab2ed48093b"
      },
      "execution_count": 28,
      "outputs": [
        {
          "output_type": "stream",
          "name": "stdout",
          "text": [
            "Checking Accuracy on training data\n",
            "Got 59435 / 60000 with accuracy 99.06\n"
          ]
        },
        {
          "output_type": "execute_result",
          "data": {
            "text/plain": [
              "99.05833333333334"
            ]
          },
          "metadata": {},
          "execution_count": 28
        }
      ]
    },
    {
      "cell_type": "code",
      "source": [
        "check_accuracy(test_loader, model)"
      ],
      "metadata": {
        "colab": {
          "base_uri": "https://localhost:8080/"
        },
        "id": "ohQv0Ro9vx4u",
        "outputId": "2d9553fa-05a1-41c7-938b-b8d39fcd97d7"
      },
      "execution_count": 29,
      "outputs": [
        {
          "output_type": "stream",
          "name": "stdout",
          "text": [
            "Checking Accuracy on testing data\n",
            "Got 9654 / 10000 with accuracy 96.54\n"
          ]
        },
        {
          "output_type": "execute_result",
          "data": {
            "text/plain": [
              "96.54"
            ]
          },
          "metadata": {},
          "execution_count": 29
        }
      ]
    },
    {
      "cell_type": "code",
      "source": [
        ""
      ],
      "metadata": {
        "id": "wBw6Qemfv476"
      },
      "execution_count": null,
      "outputs": []
    }
  ]
}